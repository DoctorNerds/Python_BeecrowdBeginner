{
  "nbformat": 4,
  "nbformat_minor": 0,
  "metadata": {
    "colab": {
      "provenance": []
    },
    "kernelspec": {
      "name": "python3",
      "display_name": "Python 3"
    },
    "language_info": {
      "name": "python"
    }
  },
  "cells": [
    {
      "cell_type": "markdown",
      "source": [
        "# Exercícios resolvidos: Beecrowd - Beginner\n",
        "\n",
        "Exercícios resolvidos pelo Fábio Mori da lista proposta em [Beecrowd - Beginner](https://www.beecrowd.com.br/judge/en/problems/index/1). Os exercícios resolvem todas as questões propostas, porém não foram adequados para serem aprovados exatamente da maneira que o Beecrowd propõe na avaliação."
      ],
      "metadata": {
        "id": "SiJnmTEHWVsZ"
      }
    },
    {
      "cell_type": "code",
      "source": [
        "# beecrowd | 1003 : Simple Sum\n",
        "\n",
        "# Problem: Read two integer values, in this case, the variables A and B. After this, calculate the sum between them and assign it to the variable SOMA. Write the value of this variable.\n",
        "# Input\n",
        "# The input file contains 2 integer numbers.\n",
        "# Output\n",
        "# Print the message \"SOMA\" with all the capital letters, with a blank space before and after the equal signal followed by the corresponding value to the sum of A and B. Like all the problems, don't forget to print the end of line, otherwise you will receive \"Presentation Error\"\n",
        "\n",
        "A = int(input(\"Digite o primeiro número: \"))\n",
        "B = int(input(\"Digite o segundo número: \"))\n",
        "SUM=A+B\n",
        "print(f\"A soma de {A} e {B} é igual a {SUM}\")"
      ],
      "metadata": {
        "colab": {
          "base_uri": "https://localhost:8080/"
        },
        "id": "k1GECRaiZ-rt",
        "outputId": "62561406-efb9-4867-900c-9da01d7c95cc"
      },
      "execution_count": null,
      "outputs": [
        {
          "output_type": "stream",
          "name": "stdout",
          "text": [
            "Digite o primeiro número: 6\n",
            "Digite o segundo número: 9\n",
            "A soma de 6 e 9 é igual a 15\n"
          ]
        }
      ]
    },
    {
      "cell_type": "code",
      "source": [
        "# beecrowd | 1004 : Simple Product\n",
        "\n",
        "# Problem: Read two integer values. After this, calculate the product between them and store the result in a variable named PROD. Print the result like the example below. Do not forget to print the end of line after the result, otherwise you will receive “Presentation Error”.\n",
        "# Input\n",
        "# The input file contains 2 integer numbers.\n",
        "# Output\n",
        "# Print the message \"PROD\" and PROD according to the following example, with a blank space before and after the equal signal.\n",
        "A = int(input(\"Digite o primeiro número: \"))\n",
        "B = int(input(\"Digite o segundo número: \"))\n",
        "PRODUCT=A*B\n",
        "print(f\"O produto de {A} e {B} é igual a {PRODUCT}\")"
      ],
      "metadata": {
        "colab": {
          "base_uri": "https://localhost:8080/"
        },
        "id": "zFU2NVQtar6-",
        "outputId": "b0dd2863-b2b2-494d-872e-ed0deb4f7de2"
      },
      "execution_count": null,
      "outputs": [
        {
          "output_type": "stream",
          "name": "stdout",
          "text": [
            "Digite o primeiro número: 9\n",
            "Digite o segundo número: 9\n",
            "O produto de 9 e 9 é igual a 81\n"
          ]
        }
      ]
    },
    {
      "cell_type": "code",
      "source": [
        "# beecrowd | 1010 : Simple Calculate\n",
        "\n",
        "# Problem: In this problem, the task is to read a code of a product 1, the number of units of product 1, the price for one unit of product 1, the code of a product 2, the number of units of product 2 and the price for one unit of product 2. After this, calculate and show the amount to be paid.\n",
        "# Input\n",
        "# The input file contains two lines of data. In each line there will be 3 values: two integers and a floating value with 2 digits after the decimal point.\n",
        "# Output\n",
        "# The output file must be a message like the following example where \"Valor a pagar\" means Value to Pay. Remember the space after \":\" and after \"R$\" symbol. The value must be presented with 2 digits after the point.\n",
        "\n",
        "code1, units1, price1 = input(\"Digite o código, unidades e preço do produto 1: \").split()\n",
        "code2, units2, price2 = input(\"Digite o código, unidades e preço do produto 2: \").split()\n",
        "total=(int(units1)*float(price1) + int(units2)*float(price2))\n",
        "print(f\"Valor total a pagar: R$ {total:.2f}\")"
      ],
      "metadata": {
        "colab": {
          "base_uri": "https://localhost:8080/"
        },
        "id": "5D_UJc-6eS18",
        "outputId": "6815caad-764f-4a2a-9739-aaa8cea371b8"
      },
      "execution_count": null,
      "outputs": [
        {
          "output_type": "stream",
          "name": "stdout",
          "text": [
            "Digite o código, unidades e preço do produto 1: 10 10 1\n",
            "Digite o código, unidades e preço do produto 2: 11 11 2\n",
            "Valor total a pagar: R$ 32.00\n"
          ]
        }
      ]
    },
    {
      "cell_type": "code",
      "source": [
        "# beecrowd | 1011 : Sphere\n",
        "\n",
        "# Problem: Make a program that calculates and shows the volume of a sphere being provided the value of its radius (R) . The formula to calculate the volume is: (4/3) * pi * R3. Consider (assign) for pi the value 3.14159.\n",
        "# Tip: Use (4/3.0) or (4.0/3) in your formula, because some languages (including C++) assume that the division's result between two integers is another integer. :)\n",
        "# Input\n",
        "# The input contains a value of floating point (double precision).\n",
        "# Output\n",
        "# The output must be a message \"VOLUME\" like the following example with a space before and after the equal signal. The value must be presented with 3 digits after the decimal point.\n",
        "\n",
        "R=float(input('Digite o raio da esfera: '))\n",
        "pi=3.14159\n",
        "volume=(4.0/3)*pi*R**3\n",
        "print(f\"Volume da esfera é igual a {volume:.3f}\")"
      ],
      "metadata": {
        "colab": {
          "base_uri": "https://localhost:8080/"
        },
        "id": "yXEsOsMYfL-0",
        "outputId": "df8a8f48-c5e9-465e-eb7f-0fca2240cf93"
      },
      "execution_count": null,
      "outputs": [
        {
          "output_type": "stream",
          "name": "stdout",
          "text": [
            "Digite o raio da esfera: 3\n",
            "Volume da esfera é igual a 113.097\n"
          ]
        }
      ]
    },
    {
      "cell_type": "code",
      "source": [
        "# beecrowd | 1013 : The Greatest\n",
        "\n",
        "# Problem: Read two integer values, in this case, the variables A and B. After this, calculate the sum between them and assign it to the variable SOMA. Write the value of this variable.\n",
        "# Input\n",
        "# The input file contains 2 integer numbers.\n",
        "# Output\n",
        "# Print the message \"SOMA\" with all the capital letters, with a blank space before and after the equal signal followed by the corresponding value to the sum of A and B. Like all the problems, don't forget to print the end of line, otherwise you will receive \"Presentation Error\"\n",
        "\n",
        "a, b, c = [int(x) for x in input(\"Digite 3 valores: \").split()]\n",
        "\n",
        "def maior (x, y):\n",
        "  resultado = (int(x) + int(y) + abs(int(x) - int(y)))  / 2\n",
        "  return resultado\n",
        "\n",
        "maior_dois_primeiros = maior (a, b)\n",
        "maior_geral = maior (maior_dois_primeiros, c)\n",
        "\n",
        "print(\"%d eh o maior\" %maior_geral)"
      ],
      "metadata": {
        "colab": {
          "base_uri": "https://localhost:8080/"
        },
        "id": "cpPBBSb7NMeR",
        "outputId": "9a71fa81-86d8-4741-cac1-6e950bf85ff5"
      },
      "execution_count": null,
      "outputs": [
        {
          "output_type": "stream",
          "name": "stdout",
          "text": [
            "Digite 3 valores: 3 22 100\n",
            "100 eh o maior\n"
          ]
        }
      ]
    },
    {
      "cell_type": "code",
      "source": [
        "# beecrowd | 1014 : Consumption\n",
        "\n",
        "# Problem: Read two integer values. After this, calculate the product between them and store the result in a variable named PROD. Print the result like the example below. Do not forget to print the end of line after the result, otherwise you will receive “Presentation Error”.\n",
        "# Input\n",
        "# The input file contains 2 integer numbers.\n",
        "# Output\n",
        "# Print the message \"PROD\" and PROD according to the following example, with a blank space before and after the equal signal.\n",
        "\n",
        "dist= int(input())\n",
        "fuel = float(input())\n",
        "average = dist/fuel\n",
        "print(f\"{round(average, 3)} km/l\")"
      ],
      "metadata": {
        "colab": {
          "base_uri": "https://localhost:8080/"
        },
        "id": "DP26Bh5KQjxy",
        "outputId": "beca448e-e549-4db6-8a1b-c62c0f20c29b"
      },
      "execution_count": null,
      "outputs": [
        {
          "output_type": "stream",
          "name": "stdout",
          "text": [
            "4\n",
            "3\n",
            "1.333 km/l\n"
          ]
        }
      ]
    },
    {
      "cell_type": "code",
      "source": [
        "# beecrowd | 1015 : Distance Between Two Points\n",
        "\n",
        "# Problem: Read the four values corresponding to the x and y axes of two points in the plane, p1 (x1, y1) and p2 (x2, y2) and calculate the distance between them, showing four decimal places after the comma, according to the formula:\n",
        "# Distance = raiz((x2-x1)^2 + (y2-y1)^2)\n",
        "# Input\n",
        "# The input file contains two lines of data. The first one contains two double values: x1 y1 and the second one also contains two double values with one digit after the decimal point: x2 y2.\n",
        "# Output\n",
        "# Calculate and print the distance value using the provided formula, with 4 digits after the decimal point.\n",
        "\n",
        "import math\n",
        "\n",
        "x1, y1 = [float(x) for x in input(\"Valores Ponto 1 (x1,y1):\").split()]\n",
        "x2, y2 = [float(x) for x in input(\"Valores Ponto 1 (x2,y2):\").split()]\n",
        "\n",
        "dist =  math.sqrt(\n",
        "    (x2-x1)**2\n",
        "    +(y2-y1)**2\n",
        "    )\n",
        "print(f\"{round(dist, 4)}\")"
      ],
      "metadata": {
        "colab": {
          "base_uri": "https://localhost:8080/"
        },
        "id": "7VyXGm5cSDRX",
        "outputId": "215dc53e-0132-4117-85da-aeaff5682fff"
      },
      "execution_count": null,
      "outputs": [
        {
          "output_type": "stream",
          "name": "stdout",
          "text": [
            "Valores Ponto 1 (x1,y1):1 7\n",
            "Valores Ponto 1 (x2,y2):5 9\n",
            "4.4721\n"
          ]
        }
      ]
    },
    {
      "cell_type": "code",
      "source": [
        "# beecrowd | 1016 : Distance \n",
        "\n",
        "# Problem: Two cars (X and Y) leave in the same direction. The car X leaves with a constant speed of 60 km/h and the car Y leaves with a constant speed of 90 km / h.\n",
        "# In one hour (60 minutes) the car Y can get a distance of 30 kilometers from the X car, in other words, it can get away one kilometer for each 2 minutes.\n",
        "# Read the distance (in km) and calculate how long it takes (in minutes) for the car Y to take this distance in relation to the other car.\n",
        "\n",
        "relation_xy = 2             # 1km percorrido -> 2min de vantagem para o carro Y\n",
        "distance_km=int(input(\"Digite a distância percorrida: \"))\n",
        "diff = distance_km*(relation_xy)\n",
        "print(f\"{diff} minutos\")"
      ],
      "metadata": {
        "colab": {
          "base_uri": "https://localhost:8080/"
        },
        "id": "Pm5l-XxE4Fwb",
        "outputId": "a6e0993f-cfde-4196-9fa8-8f622ce21a7c"
      },
      "execution_count": null,
      "outputs": [
        {
          "output_type": "stream",
          "name": "stdout",
          "text": [
            "30\n",
            "60 minutos\n"
          ]
        }
      ]
    },
    {
      "cell_type": "code",
      "source": [
        "# beecrowd | 1017 : Fuel Spent \n",
        "\n",
        "# Problem: Little John wants to calculate and show the amount of spent fuel liters on a trip, using a car that does 12 Km/L. For this, he would like you to help him through a simple program. To perform the calculation, you have to read spent time (in hours) and the same average speed (km/h). In this way, you can get distance and then, calculate how many liters would be needed. Show the value with three decimal places after the point.\n",
        "# Input\n",
        "# The input file contains two integers. The first one is the spent time in the trip (in hours). The second one is the average speed during the trip (in Km/h).\n",
        "# Output\n",
        "# Print how many liters would be needed to do this trip, with three digits after the decimal point.\n",
        "\n",
        "car_cons_km_l = 12       # km/l\n",
        "car_cons_l_km = (1/car_cons_km_l)\n",
        "time = int(input(\"Digite o tempo percorrido: \"))\n",
        "speed_avg = float(input(\"Digite a velocidade médida: \"))\n",
        "cons_liters = car_cons_l_km * time * speed_avg\n",
        "print(f\"O carro consumiu {cons_liters:.3f} litros\")"
      ],
      "metadata": {
        "colab": {
          "base_uri": "https://localhost:8080/"
        },
        "id": "4LTfKvSm4wTe",
        "outputId": "01d2a6c9-f351-49a3-e01c-808c9925cc49"
      },
      "execution_count": null,
      "outputs": [
        {
          "output_type": "stream",
          "name": "stdout",
          "text": [
            "Digite o tempo percorrido: 10\n",
            "Digite a velocidade médida: 85\n",
            "O carro consumiu 70.833 litros\n"
          ]
        }
      ]
    },
    {
      "cell_type": "code",
      "source": [
        "# beecrowd | 1018 : Banknotes\n",
        "\n",
        "# Problem: In this problem you have to read an integer value and calculate the smallest possible number of banknotes in which the value may be decomposed. The possible banknotes are 100, 50, 20, 10, 5, 2 e 1. Print the read value and the list of banknotes.\n",
        "# Input\n",
        "# The input file contains an integer value N (0 < N < 1000000).\n",
        "# Output\n",
        "# Print the read number and the minimum quantity of each necessary banknotes in Portuguese language, as the given example. Do not forget to print the end of line after each line, otherwise you will receive “Presentation Error”.\n",
        "\n",
        "\n",
        "while True:\n",
        "    try:\n",
        "        money = int(input(\"Digite a quantidade de dinheiro: R$ \"))\n",
        "    except ValueError:\n",
        "        print(\"Valor deve ser um inteiro\")\n",
        "        continue\n",
        "    if 1 <= money <= 1000000:\n",
        "        print(f'Quantidade de dinheiro: R$ {money}')\n",
        "        break\n",
        "    else:\n",
        "        print('Quantidade de dinheiro deve estar entre R$ 0,00 e R$ 1000000')\n",
        "\n",
        "banknotes = [100, 50, 20, 10, 5, 2, 1]\n",
        "\n",
        "for i in banknotes:\n",
        "  result = money // i\n",
        "  print(f\"{result} nota(s) de R$ {i}\")\n",
        "  money = money % i"
      ],
      "metadata": {
        "colab": {
          "base_uri": "https://localhost:8080/"
        },
        "id": "q59M58YNABBJ",
        "outputId": "74a7c8de-084f-4b81-e022-8ca355a2526c"
      },
      "execution_count": null,
      "outputs": [
        {
          "output_type": "stream",
          "name": "stdout",
          "text": [
            "Digite a quantidade de dinheiro: R$ 789\n",
            "Quantidade de dinheiro: R$ 789\n",
            "7 nota(s) de R$ 100\n",
            "1 nota(s) de R$ 50\n",
            "1 nota(s) de R$ 20\n",
            "1 nota(s) de R$ 10\n",
            "1 nota(s) de R$ 5\n",
            "2 nota(s) de R$ 2\n",
            "0 nota(s) de R$ 1\n"
          ]
        }
      ]
    },
    {
      "cell_type": "code",
      "source": [
        "# beecrowd | 1019 : Time Conversion\n",
        "\n",
        "# Problm: Read an integer value, which is the duration in seconds of a certain event in a factory, and inform it expressed in hours:minutes:seconds.\n",
        "# Input\n",
        "# The input file contains an integer N.\n",
        "# Output\n",
        "# Print the read time in the input file (seconds) converted in hours:minutes:seconds like the following example.\n",
        "\n",
        "import datetime\n",
        "\n",
        "sec = int(input(\"Digite a duração em segundos: \"))\n",
        "convert = datetime.timedelta(seconds = sec)\n",
        "print(convert)"
      ],
      "metadata": {
        "colab": {
          "base_uri": "https://localhost:8080/"
        },
        "id": "BP4QDSGLNgIB",
        "outputId": "954fee3b-18bd-46a2-b6db-940c4e2ef2fc"
      },
      "execution_count": null,
      "outputs": [
        {
          "output_type": "stream",
          "name": "stdout",
          "text": [
            "Digite a duração em segundos: 109890\n",
            "1 day, 6:31:30\n"
          ]
        }
      ]
    },
    {
      "cell_type": "code",
      "source": [
        "# beecrowd | 1020 : Time Conversion\n",
        "\n",
        "# Problem: Read an integer value corresponding to a person's age (in days) and print it in years, months and days, followed by its respective message “ano(s)”, “mes(es)”, “dia(s)”.\n",
        "# Note: only to facilitate the calculation, consider the whole year with 365 days and 30 days every month. In the cases of test there will never be a situation that allows 12 months and some days, like 360, 363 or 364. This is just an exercise for the purpose of testing simple mathematical reasoning.\n",
        "# Input\n",
        "# The input file contains 1 integer value.\n",
        "# Output\n",
        "# Print the output, like the following example.\n",
        "\n",
        "totalDays = int(input(\"Digite a idade em dias: \"))\n",
        "\n",
        "years = totalDays//365\n",
        "months = (totalDays%365)//30\n",
        "days = (totalDays%365)%30\n",
        "\n",
        "print(f\"{years} ano(s), {months} mês(es), {days} dia(s)\")"
      ],
      "metadata": {
        "colab": {
          "base_uri": "https://localhost:8080/"
        },
        "id": "QQzrIZzKPqnZ",
        "outputId": "053ca0ac-3f60-4919-9c87-110a23a5bbfc"
      },
      "execution_count": null,
      "outputs": [
        {
          "output_type": "stream",
          "name": "stdout",
          "text": [
            "Digite a idade em dias: 800\n",
            "2 ano(s), 2 mês(es), 10 dia(s)\n"
          ]
        }
      ]
    },
    {
      "cell_type": "code",
      "source": [
        "# beecrowd | 1021 : Banknotes and Coins\n",
        "\n",
        "# Problem: Read a value of floating point with two decimal places. This represents a monetary value. After this, calculate the smallest possible number of notes and coins on which the value can be decomposed. The considered notes are of 100, 50, 20, 10, 5, 2. The possible coins are of 1, 0.50, 0.25, 0.10, 0.05 and 0.01. Print the message “NOTAS:” followed by the list of notes and the message “MOEDAS:” followed by the list of coins.\n",
        "# Input\n",
        "# The input file contains a value of floating point N (0 ≤ N ≤ 1000000.00).\n",
        "# Output\n",
        "# Print the minimum quantity of banknotes and coins necessary to change the initial value, as the given example.\n",
        "\n",
        "while True:\n",
        "    try:\n",
        "        money = float(input(\"Digite a quantidade de dinheiro: R$ \"))\n",
        "    except ValueError:\n",
        "        print(\"Valor deve ser um decimal\")\n",
        "        continue\n",
        "    if 1 <= money <= 1000000:\n",
        "        print(f'Quantidade de dinheiro: R$ {money}')\n",
        "        break\n",
        "    else:\n",
        "        print('Quantidade de dinheiro deve estar entre R$ 0,00 e R$ 1000000')\n",
        "\n",
        "notes=money//1\n",
        "#print(notes)\n",
        "coins=round(money%1,2)\n",
        "#print(coins)\n",
        "\n",
        "banknotes = [100, 50, 20, 10, 5, 2, 1]\n",
        "bankcoins = [1, 0.50, 0.25, 0.10, 0.05, 0.01]\n",
        "\n",
        "print(\"NOTAS:\")\n",
        "for i in banknotes:\n",
        "  result = notes // i\n",
        "  print(f\"{result} nota(s) de R$ {i}\")\n",
        "  notes = notes % i\n",
        "\n",
        "print(\"MOEDAS:\")\n",
        "for i in bankcoins:\n",
        "  result = coins // i\n",
        "  print(f\"{result} moeda(s) de R$ {i}\")\n",
        "  coins = coins % i\n"
      ],
      "metadata": {
        "colab": {
          "base_uri": "https://localhost:8080/"
        },
        "id": "wDwkutxUSu43",
        "outputId": "10ca6219-0936-47c2-8ba6-53ab475fbaec"
      },
      "execution_count": null,
      "outputs": [
        {
          "output_type": "stream",
          "name": "stdout",
          "text": [
            "Digite a quantidade de dinheiro: R$ 55.55\n",
            "Quantidade de dinheiro: R$ 55.55\n",
            "NOTAS:\n",
            "0.0 nota(s) de R$ 100\n",
            "1.0 nota(s) de R$ 50\n",
            "0.0 nota(s) de R$ 20\n",
            "0.0 nota(s) de R$ 10\n",
            "1.0 nota(s) de R$ 5\n",
            "0.0 nota(s) de R$ 2\n",
            "0.0 nota(s) de R$ 1\n",
            "MOEDAS:\n",
            "0.0 moeda(s) de R$ 1\n",
            "1.0 moeda(s) de R$ 0.5\n",
            "0.0 moeda(s) de R$ 0.25\n",
            "0.0 moeda(s) de R$ 0.1\n",
            "1.0 moeda(s) de R$ 0.05\n",
            "0.0 moeda(s) de R$ 0.01\n"
          ]
        }
      ]
    },
    {
      "cell_type": "code",
      "source": [
        "# beecrowd | 1035 : Selection Test 1\n",
        "\n",
        "# Problem: Read 4 integer values A, B, C and D. \n",
        "# Then if B is greater than C and D is greater than A and if the sum of C and D is greater than the sum of A and B and if C and D were positives values and if A is even, write the message “Valores aceitos” (Accepted values). \n",
        "# Otherwise, write the message “Valores nao aceitos” (Values not accepted).\n",
        "# Input\n",
        "# Four integer numbers A, B, C and D.\n",
        "# Output\n",
        "# Show the corresponding message after the validation of the values​​.\n",
        "\n",
        "while True:\n",
        "    try:\n",
        "        A, B, C, D = [int(x) for x in input(\"Valores de A, B, C e D:\").split()]\n",
        "    except ValueError:\n",
        "        print(\"Valor deve ser um inteiro\")\n",
        "        continue\n",
        "    if (B>C) and (D>A) and ((C+D)>(A+B)) and (C>0 and D>0) and (A%2==0):\n",
        "        print('Valores aceitos')\n",
        "        break\n",
        "    else:\n",
        "        print('Valores não aceitos')\n",
        "\n"
      ],
      "metadata": {
        "colab": {
          "base_uri": "https://localhost:8080/"
        },
        "id": "rA_JrJ8STDAO",
        "outputId": "4cc901c2-2a8b-43ab-d220-6518c314d1a8"
      },
      "execution_count": null,
      "outputs": [
        {
          "output_type": "stream",
          "name": "stdout",
          "text": [
            "Valores de A, B, C e D:2 3 2 6\n",
            "Valores aceitos\n"
          ]
        }
      ]
    },
    {
      "cell_type": "code",
      "source": [
        "# beecrowd | 1036 : Bhaskara's Formula\n",
        "\n",
        "# Problem: Read 3 floating-point numbers. \n",
        "# After, print the roots of bhaskara’s formula. If it's impossible to calculate the roots because a division by zero or a square root of a negative number, presents the message “Impossivel calcular”.\n",
        "# Input\n",
        "# Read 3 floating-point numbers (double) A, B and C.\n",
        "# Output\n",
        "# Print the result with 5 digits after the decimal point or the message if it is impossible to calculate.\n",
        "\n",
        "import math\n",
        "\n",
        "while True:\n",
        "    try:\n",
        "        a, b, c = [float(x) for x in input(\"Valores de a, b e c da equação de Bhaskara: \").split()]\n",
        "    except ValueError:\n",
        "        print(\"Insira 3 valores\")\n",
        "        continue\n",
        "    try: \n",
        "        x1 = (-b + math.sqrt(b**2 - 4*a*c))/(2*a)\n",
        "        x2 = (-b - math.sqrt(b**2 - 4*a*c))/(2*a)\n",
        "        print(f'R1= {x1:.5f} R2= {x2:.5f}')\n",
        "        break\n",
        "    except:\n",
        "        print('Impossível calcular')\n",
        "        \n"
      ],
      "metadata": {
        "colab": {
          "base_uri": "https://localhost:8080/"
        },
        "id": "bz6goGumUntD",
        "outputId": "fc82f248-2a28-4b20-d0cd-be78a237f27d"
      },
      "execution_count": null,
      "outputs": [
        {
          "output_type": "stream",
          "name": "stdout",
          "text": [
            "Valores de a, b e c da equação de Bhaskara: 0 9 8\n",
            "Impossível calcular\n",
            "Valores de a, b e c da equação de Bhaskara: 8 9 0\n",
            "R1= 0.00000 R2= -1.12500\n"
          ]
        }
      ]
    },
    {
      "cell_type": "code",
      "source": [
        "# beecrowd | 1037 : Interval\n",
        "\n",
        "# Problem: You must make a program that read a float-point number and print a message saying in which of following intervals the number belongs: [0,25] (25,50], (50,75], (75,100]. If the read number is less than zero or greather than 100, the program must print the message “Fora de intervalo” that means \"Out of Interval\".\n",
        "# The symbol '(' represents greather than. For example:\n",
        "# [0,25] indicates numbers between 0 and 25.0000, including both.\n",
        "# (25,50] indicates numbers greather than 25 (25.00001) up to 50.0000000.\n",
        "# Input\n",
        "# The input file contains a floating-point number.\n",
        "# Output\n",
        "# The output must be a message like following example.\n",
        "\n",
        "while True:\n",
        "    try:\n",
        "      num = float(input(\"Digite 1 valor: \"))\n",
        "    except ValueError:\n",
        "      print(\"Insira 1 valor\")\n",
        "      continue\n",
        "    if 0 <= num <= 100:\n",
        "      if (0 <= num <= 25):\n",
        "        print('Intervalo [0,25]')\n",
        "      elif (25 < num <= 50):\n",
        "        print('Intervalo (25,50]')\n",
        "      elif (50 < num <= 75):\n",
        "        print('Intervalo (50,75]')\n",
        "      else:\n",
        "        print('Intervalo (75,100]')\n",
        "    break\n"
      ],
      "metadata": {
        "colab": {
          "base_uri": "https://localhost:8080/"
        },
        "id": "LuEmOL-2Y8Yc",
        "outputId": "5e7a839f-b3db-4da5-ab0b-1e44e30359fe"
      },
      "execution_count": null,
      "outputs": [
        {
          "output_type": "stream",
          "name": "stdout",
          "text": [
            "Digite 1 valor: 4\n",
            "Intervalo [0,25]\n"
          ]
        }
      ]
    },
    {
      "cell_type": "code",
      "source": [
        "# beecrowd | 1038 : Snack\n",
        "\n",
        "# Problem: Using the following table, write a program that reads a code and the amount of an item. After, print the value to pay. \n",
        "# This is a very simple program with the only intention of practice of selection commands.\n",
        "# Input\n",
        "# The input file contains two integer numbers X and Y. X is the product code and Y is the quantity of this item according to the above table.\n",
        "# Output\n",
        "# The output must be a message \"Total: R$ \" followed by the total value to be paid, with 2 digits after the decimal point.\n",
        "\n",
        "menu = {1: ['Cachorro Quente', 4], 2: ['X-Salada', 4.5], 3: ['X-Bacon', 5], 4: ['Torrada Simples', 2], 5: ['Refrigerante', 1.5]}\n",
        "\n",
        "while True:\n",
        "    try:\n",
        "      codigo, quantidade = [int(x) for x in input(\"Digite o código do produto e a quantidade desejada: \").split()]\n",
        "    except ValueError:\n",
        "      print(\"Insira apenas o código e a quantidade\")\n",
        "      continue\n",
        "    if (codigo < list(menu)[0]) or (codigo > list(menu)[-1]):\n",
        "      print(\"Código não existe\")\n",
        "    else:\n",
        "      valor = float(menu[codigo][1]) * quantidade\n",
        "      print(f\"Total: R$ {valor:.2f}\")\n",
        "    break\n",
        "    "
      ],
      "metadata": {
        "colab": {
          "base_uri": "https://localhost:8080/"
        },
        "id": "PuxTNRL1ezae",
        "outputId": "be7711e2-0fc3-4103-a3c7-a105a3dc6d9c"
      },
      "execution_count": null,
      "outputs": [
        {
          "output_type": "stream",
          "name": "stdout",
          "text": [
            "Digite o código do produto e a quantidade desejada: 43 2\n",
            "Código não existe\n"
          ]
        }
      ]
    },
    {
      "cell_type": "code",
      "source": [
        "# beecrowd | 1040 : Average 3\n",
        "\n",
        "# Problem: Read four numbers (N1, N2, N3, N4), which one with 1 digit after the decimal point, corresponding to 4 scores obtained by a student. \n",
        "# Calculate the average with weights 2, 3, 4 e 1 respectively, for these 4 scores and print the message \"Media: \" (Average), followed by the calculated result. If the average was 7.0 or more, print the message \"Aluno aprovado.\" (Approved Student). If the average was less than 5.0, print the message: \"Aluno reprovado.\" (Reproved Student). If the average was between 5.0 and 6.9, including these, the program must print the message \"Aluno em exame.\" (In exam student).\n",
        "# In case of exam, read one more score. Print the message \"Nota do exame: \" (Exam score) followed by the typed score. Recalculate the average (sum the exam score with the previous calculated average and divide by 2) and print the message “Aluno aprovado.” (Approved student) in case of average 5.0 or more) or \"Aluno reprovado.\" (Reproved student) in case of average 4.9 or less. For these 2 cases (approved or reproved after the exam) print the message \"Media final: \" (Final average) followed by the final average for this student in the last line.\n",
        "# Input\n",
        "# The input contains four floating point numbers that represent the students' grades.\n",
        "# Output\n",
        "# Print all the answers with one digit after the decimal point.\n",
        "\n",
        "while True:\n",
        "    try:\n",
        "      n1, n2, n3, n4 = [float(x) for x in input(\"Digite as notas N1, N2, N3 e N4 com uma casa decimal: \").split()]\n",
        "    except ValueError:\n",
        "      print(\"Ocorreu um erro, digite novamente.\")\n",
        "      continue\n",
        "    media=((n1*2)+(n2*3)+(n3*4)+(n4*1))/10\n",
        "    if media>=7:\n",
        "      print(f\"Média: {media:.2f}\")\n",
        "      print(\"Aluno aprovado.\")\n",
        "      break\n",
        "    elif media<5:\n",
        "      print(f\"Média: {media:.2f}\")\n",
        "      print(\"Aluno reprovado.\")\n",
        "      break\n",
        "    elif 5<=media<7:\n",
        "      print(\"Aluno em exame.\")\n",
        "      exame=float(input(\"Digite a nota do exame: \"))\n",
        "      media_nova=(media + exame)/2\n",
        "      if media_nova >= 5:\n",
        "        print(f\"Média: {media_nova:.2f}\")\n",
        "        print(\"Aluno aprovado.\")\n",
        "        break\n",
        "      else:\n",
        "        print(f\"Média: {media_nova:.2f}\")\n",
        "        print(\"Aluno reprovado.\")\n",
        "        break\n"
      ],
      "metadata": {
        "colab": {
          "base_uri": "https://localhost:8080/"
        },
        "id": "cH6pFJO-SPNG",
        "outputId": "bfa825e9-1bd0-4e58-93be-72a3f38f7509"
      },
      "execution_count": 2,
      "outputs": [
        {
          "output_type": "stream",
          "name": "stdout",
          "text": [
            "Digite as notas N1, N2, N3 e N4 com uma casa decimal: 2 6.5 4 9\n",
            "Média: 4.85\n",
            "Aluno reprovado.\n"
          ]
        }
      ]
    },
    {
      "cell_type": "code",
      "source": [],
      "metadata": {
        "id": "UjGXDrR1XWHI"
      },
      "execution_count": null,
      "outputs": []
    }
  ]
}